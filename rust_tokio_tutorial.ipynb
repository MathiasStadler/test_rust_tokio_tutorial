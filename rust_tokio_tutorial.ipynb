{
 "cells": [
  {
   "cell_type": "markdown",
   "metadata": {},
   "source": [
    "[FROM HERE](https://tokio.rs/tokio/tutorial)"
   ]
  },
  {
   "cell_type": "code",
   "execution_count": null,
   "metadata": {},
   "outputs": [],
   "source": [
    "cd my_redis\n",
    "cargo run --example tokio_main_runtime"
   ]
  },
  {
   "cell_type": "markdown",
   "metadata": {},
   "source": [
    "[cago expand](https://github.com/dtolnay/cargo-expand)"
   ]
  },
  {
   "cell_type": "markdown",
   "metadata": {},
   "source": [
    "# install\n",
    "``` cargo install cargo-expand ```"
   ]
  },
  {
   "cell_type": "markdown",
   "metadata": {},
   "source": [
    "Spawning => erzeugen\n",
    "produce, generate, manufacture, engender, spawn, beget\n",
    "\n",
    "Spawning =>  hervorbringen\n",
    "produce, yield, originate, send forth, bring forth, put forth "
   ]
  },
  {
   "cell_type": "markdown",
   "metadata": {},
   "source": [
    "https://tokio.rs/tokio/tutorial/spawning"
   ]
  }
 ],
 "metadata": {
  "kernelspec": {
   "display_name": "Rust",
   "language": "rust",
   "name": "rust"
  },
  "language_info": {
   "name": "rust"
  }
 },
 "nbformat": 4,
 "nbformat_minor": 2
}
